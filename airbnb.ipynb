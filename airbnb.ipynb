{
  "nbformat": 4,
  "nbformat_minor": 0,
  "metadata": {
    "colab": {
      "name": "airbnb.ipynb",
      "provenance": [],
      "collapsed_sections": [],
      "authorship_tag": "ABX9TyP5DlLjPUnzAd3+gtlCIo8c",
      "include_colab_link": true
    },
    "kernelspec": {
      "display_name": "Python 3",
      "name": "python3"
    }
  },
  "cells": [
    {
      "cell_type": "markdown",
      "metadata": {
        "id": "view-in-github",
        "colab_type": "text"
      },
      "source": [
        "<a href=\"https://colab.research.google.com/github/emadphysics/Amsterdam_Airbnb_predictive_models/blob/main/airbnb.ipynb\" target=\"_parent\"><img src=\"https://colab.research.google.com/assets/colab-badge.svg\" alt=\"Open In Colab\"/></a>"
      ]
    },
    {
      "cell_type": "code",
      "metadata": {
        "id": "Ivm8zNYAmk5L"
      },
      "source": [
        "import pandas as pd\r\n",
        "import numpy as np\r\n",
        "import matplotlib.pyplot as plt\r\n",
        "import seaborn as sns\r\n",
        "from scipy.stats import norm\r\n",
        "from scipy import stats\r\n",
        "from math import sqrt\r\n",
        "import os\r\n",
        "from sklearn.neighbors import LocalOutlierFactor\r\n",
        "\r\n",
        "\r\n",
        "from sklearn.metrics import *\r\n",
        "from sklearn import datasets\r\n",
        "import pandas as pd\r\n",
        "from sklearn.model_selection import KFold\r\n",
        "from sklearn.model_selection import cross_val_score\r\n",
        "from sklearn.pipeline import Pipeline\r\n",
        "from sklearn.pipeline import FeatureUnion\r\n",
        "from sklearn.linear_model import LinearRegression\r\n",
        "from sklearn.decomposition import PCA\r\n",
        "from sklearn.feature_selection import *\r\n",
        "import matplotlib.pyplot as plt\r\n",
        "from sklearn.model_selection import *\r\n",
        "from sklearn.isotonic import isotonic_regression\r\n",
        "from sklearn.linear_model import *\r\n",
        "from sklearn.svm import *\r\n",
        "from sklearn.neighbors  import *\r\n",
        "from sklearn.gaussian_process import *\r\n",
        "from sklearn.ensemble import *\r\n",
        "from sklearn.experimental import *\r\n",
        "from sklearn.neural_network import *\r\n",
        "from sklearn.tree import *\r\n",
        "from xgboost import *\r\n",
        "from sklearn.preprocessing import *\r\n",
        "from sklearn.compose import ColumnTransformer\r\n",
        "import matplotlib.pyplot as plt\r\n",
        "import seaborn as sns\r\n",
        "from numpy import mean\r\n",
        "from numpy import std\r\n",
        "from geopy.distance import great_circle\r\n",
        "import folium\r\n",
        "from folium.plugins import HeatMap\r\n",
        "from collections import Counter\r\n",
        "from sklearn.linear_model import Lasso\r\n",
        "from google.colab import drive\r\n",
        "drive.mount(\"/content/gdrive\")"
      ],
      "execution_count": null,
      "outputs": []
    },
    {
      "cell_type": "code",
      "metadata": {
        "colab": {
          "base_uri": "https://localhost:8080/"
        },
        "id": "sa5rGCXEm7q5",
        "outputId": "c26459be-6967-4e7a-db3a-033db147e243"
      },
      "source": [
        "df=pd.read_csv('/content/gdrive/My Drive/listingss.csv')"
      ],
      "execution_count": null,
      "outputs": [
        {
          "output_type": "stream",
          "text": [
            "/usr/local/lib/python3.6/dist-packages/IPython/core/interactiveshell.py:2718: DtypeWarning: Columns (61,62,94) have mixed types.Specify dtype option on import or set low_memory=False.\n",
            "  interactivity=interactivity, compiler=compiler, result=result)\n"
          ],
          "name": "stderr"
        }
      ]
    },
    {
      "cell_type": "code",
      "metadata": {
        "id": "QG-6a-L4n2wr"
      },
      "source": [
        "one_hot_col_names = ['host_id',  'host_location', 'host_response_time','host_is_superhost','host_neighbourhood','host_has_profile_pic','host_identity_verified',\r\n",
        "           'neighbourhood','neighbourhood_cleansed','neighbourhood_group_cleansed', 'zipcode', 'is_location_exact', 'property_type', 'room_type', 'bed_type', 'has_availability', 'requires_license', 'instant_bookable', \r\n",
        "           'is_business_travel_ready', 'cancellation_policy', 'cancellation_policy','require_guest_profile_picture', 'require_guest_phone_verification', 'calendar_updated']\r\n",
        "\r\n",
        "features = ['host_listings_count', 'host_total_listings_count', 'latitude', 'longitude', \r\n",
        "      'accommodates', 'bathrooms', 'bedrooms', 'beds', 'square_feet',     \r\n",
        "      'guests_included', 'minimum_nights', 'maximum_nights', 'availability_30', 'availability_60', \r\n",
        "      'availability_90', 'availability_365', 'number_of_reviews', 'review_scores_rating', 'review_scores_accuracy', \r\n",
        "      'review_scores_cleanliness', 'review_scores_checkin', 'review_scores_communication', 'review_scores_location', \r\n",
        "      'review_scores_value', 'calculated_host_listings_count', 'reviews_per_month']\r\n",
        " \r\n",
        "price_features = ['security_deposit', 'cleaning_fee', 'extra_people','price'] \r\n",
        "\r\n",
        "text_cols = ['name', 'summary', 'space', 'description', 'neighborhood_overview', 'notes', 'transit', 'access', 'interaction', 'house_rules', 'host_name', 'host_about']\r\n",
        "\r\n",
        "date_cols = ['host_since', 'first_review', 'last_review']"
      ],
      "execution_count": null,
      "outputs": []
    },
    {
      "cell_type": "code",
      "metadata": {
        "id": "AR3vb9Iyn4Wk"
      },
      "source": [
        "import sklearn\r\n",
        "import io\r\n",
        "import pandas as pd\r\n",
        "import numpy as np\r\n",
        "from sklearn.decomposition import PCA, TruncatedSVD\r\n",
        "from sklearn.preprocessing import LabelEncoder\r\n",
        "from sklearn.preprocessing import OneHotEncoder\r\n",
        "from sklearn.feature_extraction.text import TfidfVectorizer, CountVectorizer\r\n",
        "import re\r\n",
        "from sklearn import linear_model\r\n",
        "from sklearn.svm import SVR\r\n",
        "import matplotlib.pyplot as plt\r\n",
        "import xgboost as xgb\r\n",
        "from sklearn.ensemble import RandomForestRegressor\r\n",
        "import math\r\n",
        "from sklearn.utils import shuffle\r\n",
        "from datetime import date"
      ],
      "execution_count": null,
      "outputs": []
    },
    {
      "cell_type": "code",
      "metadata": {
        "id": "WLWBCrNQn9NF"
      },
      "source": [
        "def one_hot(arr):\r\n",
        "    \r\n",
        "    label_encoder = LabelEncoder()\r\n",
        "    integer_encoded = label_encoder.fit_transform(arr)\r\n",
        "    onehot_encoder = OneHotEncoder(sparse=False)\r\n",
        "    integer_encoded = integer_encoded.reshape(len(integer_encoded), 1)\r\n",
        "    onehot_encoded = onehot_encoder.fit_transform(integer_encoded)\r\n",
        "    return onehot_encoded"
      ],
      "execution_count": null,
      "outputs": []
    },
    {
      "cell_type": "code",
      "metadata": {
        "id": "DtiyMi0joAhb"
      },
      "source": [
        "def host_verification(cols):\r\n",
        "    possible_words = {}\r\n",
        "    i = 0\r\n",
        "    for col in cols:\r\n",
        "        words = col.split()\r\n",
        "        for w in words:\r\n",
        "            wr = re.sub(r'\\W+', '', w)\r\n",
        "            if wr != '' and wr not in possible_words:\r\n",
        "                possible_words[wr] = i\r\n",
        "                i += 1\r\n",
        "    print (possible_words)\r\n",
        "    l = len(possible_words)\r\n",
        "\r\n",
        "    new_cols = np.zeros((cols.shape[0], l))\r\n",
        "    for i, col in enumerate(cols):\r\n",
        "        words = col.split()\r\n",
        "        arr = np.zeros(l)\r\n",
        "        for w in words:\r\n",
        "            wr = re.sub(r'\\W+', '', w)\r\n",
        "            if wr != '':\r\n",
        "                arr[possible_words[wr]] = 1\r\n",
        "        new_cols[i] = arr\r\n",
        "    return new_cols"
      ],
      "execution_count": null,
      "outputs": []
    },
    {
      "cell_type": "code",
      "metadata": {
        "id": "Sbkk3V6YoHfq"
      },
      "source": [
        "def amenities(cols):\r\n",
        "    dic = {}\r\n",
        "    i = 0\r\n",
        "    for col in cols:\r\n",
        "        arr = col.split(',')\r\n",
        "        for a in arr:\r\n",
        "            ar = re.sub(r'\\W+', '', a)\r\n",
        "            if len(ar) > 0:\r\n",
        "                if ar not in dic:\r\n",
        "                    dic[ar] = i\r\n",
        "                    i += 1\r\n",
        "    \r\n",
        "    l = len(dic)\r\n",
        "    new_cols = np.zeros((cols.shape[0], l))\r\n",
        "    for i, col in enumerate(cols):\r\n",
        "        words = col.split(',')\r\n",
        "        arr = np.zeros(l)\r\n",
        "        for w in words:\r\n",
        "            wr = re.sub(r'\\W+', '', w)\r\n",
        "            if wr != '':\r\n",
        "                arr[dic[wr]] = 1\r\n",
        "        new_cols[i] = arr\r\n",
        "    return new_cols\r\n"
      ],
      "execution_count": null,
      "outputs": []
    },
    {
      "cell_type": "code",
      "metadata": {
        "id": "iw1e51CKoMnn"
      },
      "source": [
        "def clean_date(cols):\r\n",
        "    num_data = cols.shape[0]\r\n",
        "    #print(num_data)\r\n",
        "    dates = pd.to_datetime(cols)\r\n",
        "    min_date = pd.to_datetime(date.today())\r\n",
        "    for col in dates:\r\n",
        "        if not isinstance(col, float):\r\n",
        "            min_date = min(min_date, col)\r\n",
        "    mean_date = dates.mean()\r\n",
        "    \r\n",
        "    dif = pd.to_timedelta([mean_date - min_date]).astype('timedelta64[h]')[0]\r\n",
        "    arr = np.zeros((num_data, 1))\r\n",
        "    #print (dif)\r\n",
        "    for i, col in enumerate(dates):\r\n",
        "        arr[i] = pd.to_timedelta([col - min_date]).astype('timedelta64[h]')[0]\r\n",
        "        if np.isnan(arr[i]):\r\n",
        "            arr[i] = dif\r\n",
        "\r\n",
        "    # print (np.min(arr), np.max(arr))\r\n",
        "    return arr"
      ],
      "execution_count": null,
      "outputs": []
    },
    {
      "cell_type": "code",
      "metadata": {
        "id": "PQuYr_FWoN0Q"
      },
      "source": [
        "date_features = []\r\n",
        "for i in date_cols:\r\n",
        "    date_features.append(clean_date(df[i]))\r\n",
        "\r\n",
        "date_features = np.concatenate(date_features, axis=1)"
      ],
      "execution_count": null,
      "outputs": []
    },
    {
      "cell_type": "code",
      "metadata": {
        "colab": {
          "base_uri": "https://localhost:8080/"
        },
        "id": "doCkuSXpoSkp",
        "outputId": "e30ea2b7-9298-426c-d97a-9f73d922273c"
      },
      "source": [
        "one_hot_col_names = ['host_response_time','host_is_superhost','host_has_profile_pic','host_identity_verified',\r\n",
        "           'neighbourhood_cleansed','neighbourhood_group_cleansed', 'zipcode', 'is_location_exact', 'property_type', 'room_type', 'bed_type', 'has_availability', 'requires_license', 'instant_bookable', \r\n",
        "           'is_business_travel_ready', 'cancellation_policy', 'cancellation_policy','require_guest_profile_picture', 'require_guest_phone_verification','calendar_updated']\r\n",
        "one_hot_dict = {}\r\n",
        "for i in one_hot_col_names:\r\n",
        "    #print(i)\r\n",
        "    one_hot_dict[i] = one_hot(np.array(df[i].fillna(\"\"), dtype=str))\r\n",
        "one_hot_dict['host_verifications'] = host_verification(df['host_verifications'])\r\n",
        "one_hot_dict['amenities'] = amenities(df['amenities'])"
      ],
      "execution_count": null,
      "outputs": [
        {
          "output_type": "stream",
          "text": [
            "{'email': 0, 'phone': 1, 'reviews': 2, 'jumio': 3, 'offline_government_id': 4, 'selfie': 5, 'government_id': 6, 'identity_manual': 7, 'facebook': 8, 'work_email': 9, 'google': 10, 'manual_offline': 11, 'manual_online': 12, 'sent_id': 13, 'kba': 14, 'None': 15, 'weibo': 16, 'zhima_selfie': 17, 'sesame': 18, 'sesame_offline': 19}\n"
          ],
          "name": "stdout"
        }
      ]
    },
    {
      "cell_type": "code",
      "metadata": {
        "colab": {
          "base_uri": "https://localhost:8080/"
        },
        "id": "C6uYAsGeoVCM",
        "outputId": "7d9ab245-1fc7-4b94-98ad-fd2de9300a11"
      },
      "source": [
        "ont_hot_list = []\r\n",
        "\r\n",
        "for i in one_hot_dict.keys():\r\n",
        "    if 1<one_hot_dict[i].shape[1]<400:\r\n",
        "        \r\n",
        "        ont_hot_list.append(one_hot_dict[i])\r\n",
        "        print(i,one_hot_dict[i].shape[1])\r\n",
        "\r\n",
        "onehot_features = np.concatenate(ont_hot_list, axis=1)\r\n",
        "print(onehot_features.shape)"
      ],
      "execution_count": null,
      "outputs": [
        {
          "output_type": "stream",
          "text": [
            "host_response_time 5\n",
            "host_is_superhost 3\n",
            "host_has_profile_pic 3\n",
            "host_identity_verified 3\n",
            "neighbourhood_cleansed 22\n",
            "is_location_exact 2\n",
            "property_type 34\n",
            "room_type 4\n",
            "bed_type 5\n",
            "instant_bookable 2\n",
            "cancellation_policy 5\n",
            "require_guest_profile_picture 2\n",
            "require_guest_phone_verification 2\n",
            "calendar_updated 79\n",
            "host_verifications 20\n",
            "amenities 134\n",
            "(20001, 325)\n"
          ],
          "name": "stdout"
        }
      ]
    },
    {
      "cell_type": "code",
      "metadata": {
        "id": "pbuFKaYUoXf3"
      },
      "source": [
        "def clean_host_response_rate(host_response_rate, num_data):\r\n",
        "    total = 0\r\n",
        "    count = 0\r\n",
        "    for col in host_response_rate:\r\n",
        "        if not isinstance(col, float):\r\n",
        "            total += float(col.strip('%'))\r\n",
        "            count += 1\r\n",
        "\r\n",
        "    arr = np.zeros(num_data)\r\n",
        "    mean = total / count\r\n",
        "    print (host_response_rate.name, 'mean is ', mean)\r\n",
        "    for i, col in enumerate(host_response_rate):\r\n",
        "        if not isinstance(col, float):\r\n",
        "            arr[i] += float(col.strip('%'))\r\n",
        "        else:\r\n",
        "            assert(math.isnan(col))\r\n",
        "            arr[i] = mean\r\n",
        "    return arr"
      ],
      "execution_count": null,
      "outputs": []
    },
    {
      "cell_type": "code",
      "metadata": {
        "id": "5Xemlsygoauh"
      },
      "source": [
        "def clean_price(price, num_data):\r\n",
        "    '''\r\n",
        "    total = 0\r\n",
        "    count = 0\r\n",
        "    all_count=0\r\n",
        "    for col in price:\r\n",
        "        all_count+=1\r\n",
        "        if not isinstance(col, float):\r\n",
        "            total += float(col.strip('$').replace(',', ''))\r\n",
        "            count += 1\r\n",
        "    \r\n",
        "    \r\n",
        "    mean = total / count\r\n",
        "    print (price.name, 'mean is ', mean)\r\n",
        "    print(all_count-count)\r\n",
        "    '''\r\n",
        "    arr = np.zeros(num_data)\r\n",
        "    for i, col in enumerate(price):\r\n",
        "        if not isinstance(col, float):\r\n",
        "            arr[i] += float(col.strip('$').replace(',', ''))\r\n",
        "        else:\r\n",
        "            assert(math.isnan(col))\r\n",
        "            arr[i] = 0\r\n",
        "    return arr"
      ],
      "execution_count": null,
      "outputs": []
    },
    {
      "cell_type": "code",
      "metadata": {
        "id": "g4SdEuCHod5a"
      },
      "source": [
        "def check_nan(cols):\r\n",
        "    for col in cols:\r\n",
        "        #print (col)\r\n",
        "        if np.isnan(col):\r\n",
        "            return True\r\n",
        "    return False"
      ],
      "execution_count": null,
      "outputs": []
    },
    {
      "cell_type": "code",
      "metadata": {
        "id": "02Jvf2jHohWf"
      },
      "source": [
        "def to_np_array_fill_NA_mean(cols):\r\n",
        "    print (cols.name, 'mean is ', np.nanmean(np.array(cols)))\r\n",
        "    return np.array(cols.fillna(np.nanmean(np.array(cols))))"
      ],
      "execution_count": null,
      "outputs": []
    },
    {
      "cell_type": "code",
      "metadata": {
        "id": "sXldgAIAo346"
      },
      "source": [
        "num_data = df.shape[0]"
      ],
      "execution_count": null,
      "outputs": []
    },
    {
      "cell_type": "code",
      "metadata": {
        "colab": {
          "base_uri": "https://localhost:8080/"
        },
        "id": "5IAcLOFDo8Ug",
        "outputId": "652014b2-d9c7-40db-94bb-94d79f2d0a84"
      },
      "source": [
        "arr = np.zeros((len(features) + len(price_features) + 1, num_data))\r\n",
        "# check_nan(df['extra_people'])\r\n",
        "\r\n",
        "host_response_rate = clean_host_response_rate(df['host_response_rate'], num_data)\r\n",
        "arr[0] = host_response_rate\r\n",
        "print(\"num_data\", num_data)\r\n",
        "i = 0\r\n",
        "for feature in features:\r\n",
        "    i += 1\r\n",
        "    if check_nan(df[feature]):\r\n",
        "        arr[i] = to_np_array_fill_NA_mean(df[feature])\r\n",
        "    else:\r\n",
        "        arr[i] = np.array(df[feature])\r\n",
        "    \r\n",
        "\r\n",
        "for feature in price_features:\r\n",
        "    i += 1\r\n",
        "    arr[i] = clean_price(df[feature], num_data)\r\n",
        "\r\n",
        "label = arr[-1]\r\n",
        "arr = arr[:-1].T\r\n",
        "#arr = arr.T\r\n",
        "print(arr.shape)"
      ],
      "execution_count": null,
      "outputs": [
        {
          "output_type": "stream",
          "text": [
            "host_response_rate mean is  93.11117494972709\n",
            "num_data 20001\n",
            "host_listings_count mean is  3.877587849014988\n",
            "host_total_listings_count mean is  3.877587849014988\n",
            "bathrooms mean is  1.1829707426856715\n",
            "bedrooms mean is  1.4510834209077716\n",
            "beds mean is  1.7806160781367393\n",
            "square_feet mean is  548.3960674157304\n",
            "review_scores_rating mean is  95.25180963237389\n",
            "review_scores_accuracy mean is  9.710220143720772\n",
            "review_scores_cleanliness mean is  9.487482178500143\n",
            "review_scores_checkin mean is  9.77022709117882\n",
            "review_scores_communication mean is  9.810539523212045\n",
            "review_scores_location mean is  9.50872889091739\n",
            "review_scores_value mean is  9.205100410771337\n",
            "reviews_per_month mean is  0.9533010637699104\n",
            "(20001, 30)\n"
          ],
          "name": "stdout"
        }
      ]
    },
    {
      "cell_type": "code",
      "metadata": {
        "id": "06or-bipo-FP"
      },
      "source": [
        "price_thres = 500"
      ],
      "execution_count": null,
      "outputs": []
    },
    {
      "cell_type": "code",
      "metadata": {
        "colab": {
          "base_uri": "https://localhost:8080/"
        },
        "id": "bBqbY7NKpDLK",
        "outputId": "56e197a5-7caf-43b2-8b65-9679a10875a7"
      },
      "source": [
        "count_vect = TfidfVectorizer(analyzer='word', token_pattern=r'\\w{1,}', ngram_range=(1,2))\r\n",
        "#count_vect = CountVectorizer(analyzer='word', token_pattern=r'\\w{1,}', ngram_range=(1,1))\r\n",
        "\r\n",
        "text_X_list=[]\r\n",
        "#text_cols = ['name', 'summary', 'space', 'description', 'neighborhood_overview', 'notes', 'transit', 'access', 'interaction', 'house_rules', 'host_name', 'host_about']\r\n",
        "for i in text_cols:\r\n",
        "    print(i)\r\n",
        "    mask = label > 0#np.logical_and(label<price_thres, label > 0) #\r\n",
        "    x = count_vect.fit_transform(df[i][mask].values.astype('U'))\r\n",
        "    pca = TruncatedSVD(n_components=50)#x.shape[1]//100) #PCA(n_components=10)\r\n",
        "    x = pca.fit_transform(x)\r\n",
        "    print(x.shape)\r\n",
        "    text_X_list.append(x)\r\n",
        "from scipy.sparse import hstack\r\n",
        "text_features_unfiltered = np.concatenate(text_X_list,axis=1)#PCA \r\n",
        "#text_features = hstack(text_X_list) #non-PCA"
      ],
      "execution_count": null,
      "outputs": [
        {
          "output_type": "stream",
          "text": [
            "name\n",
            "(20000, 50)\n",
            "summary\n",
            "(20000, 50)\n",
            "space\n",
            "(20000, 50)\n",
            "description\n",
            "(20000, 50)\n",
            "neighborhood_overview\n",
            "(20000, 50)\n",
            "notes\n",
            "(20000, 50)\n",
            "transit\n",
            "(20000, 50)\n",
            "access\n",
            "(20000, 50)\n",
            "interaction\n",
            "(20000, 50)\n",
            "house_rules\n",
            "(20000, 50)\n",
            "host_name\n",
            "(20000, 50)\n",
            "host_about\n",
            "(20000, 50)\n"
          ],
          "name": "stdout"
        }
      ]
    },
    {
      "cell_type": "code",
      "metadata": {
        "colab": {
          "base_uri": "https://localhost:8080/",
          "height": 1000
        },
        "id": "wFkmo0nqpXK4",
        "outputId": "8dd0d32b-57e3-424a-fa2f-2ce5ac971030"
      },
      "source": [
        "from sklearn.neighbors import KNeighborsRegressor\r\n",
        "from sklearn.neural_network import MLPRegressor\r\n",
        "mask = label > 0 #np.logical_and(label<price_thres, label > 0) #label > 0\r\n",
        "# mask = np.logical_and(label<price_thres, label > 0) #label > 0\r\n",
        "\r\n",
        "arr_filtered = (arr[mask])\r\n",
        "one_hot_filtered = onehot_features[mask]\r\n",
        "#date_filtered = date_features[mask]   \r\n",
        "\r\n",
        "num_data = arr_filtered.shape[0]\r\n",
        "train_num = int(num_data * 0.7)\r\n",
        "dev_num = int(num_data * 0.9)\r\n",
        "test_num = num_data - train_num\r\n",
        "\r\n",
        "label_filtered =np.log(label[mask])\r\n",
        "\r\n",
        "train_label = label_filtered[:train_num]\r\n",
        "dev_label = label_filtered[train_num:dev_num]\r\n",
        "test_label = label_filtered[dev_num:]\r\n",
        "\r\n",
        "#arr_filtered = remove_colinear(arr_filtered, 5)\r\n",
        "\r\n",
        "#features = arr_filtered\r\n",
        "from sklearn.feature_selection import VarianceThreshold\r\n",
        "#remove no variance\r\n",
        "\r\n",
        "#features = np.concatenate((arr_filtered, one_hot_filtered, text_features_unfiltered),axis=1) \r\n",
        "\r\n",
        "#sel = VarianceThreshold(threshold=0.0001)\r\n",
        "#features=sel.fit_transform(features)\r\n",
        "\r\n",
        "\r\n",
        "\r\n",
        "need_normalize = True\r\n",
        "#arr\r\n",
        "train_features_arr = arr_filtered[:train_num]\r\n",
        "dev_features_arr = arr_filtered[train_num:dev_num]\r\n",
        "test_features_arr = arr_filtered[dev_num:]\r\n",
        "if need_normalize:\r\n",
        "    mean = np.mean(train_features_arr,axis=0)\r\n",
        "    std = np.std(train_features_arr,axis=0)\r\n",
        "    train_features_arr = (train_features_arr - mean) / std\r\n",
        "    dev_features_arr = (dev_features_arr - mean) / std\r\n",
        "    test_features_arr =  (test_features_arr- mean) / std\r\n",
        "\r\n",
        "#1hot\r\n",
        "train_features_1h = one_hot_filtered[:train_num]\r\n",
        "dev_features_1h = one_hot_filtered[train_num:dev_num]\r\n",
        "test_features_1h = one_hot_filtered[dev_num:]\r\n",
        "\r\n",
        "train_features = np.concatenate([train_features_arr, train_features_1h],axis=1)\r\n",
        "\r\n",
        "# dev_features = np.concatenate([dev_features_arr, dev_features_1h, dev_features_txt],axis=1)\r\n",
        "dev_features = np.concatenate([dev_features_arr, dev_features_1h],axis=1)\r\n",
        "\r\n",
        "# test_features = np.concatenate([test_features_arr, test_features_1h, test_features_txt],axis=1)\r\n",
        "\r\n",
        "# print(train_features.shape, test_features.shape)\r\n",
        "\r\n",
        "# for model in [RandomForestRegressor(max_depth=10, random_state=0, n_estimators=100),linear_model.LassoLars(alpha=.1),linear_model.Lasso(alpha=.1),linear_model.LinearRegression(),linear_model.BayesianRidge(),SVR(gamma='scale', C=1.0, epsilon=0.5),linear_model.SGDRegressor(max_iter=1000, tol=1e-3),xgb.XGBRegressor(),linear_model.Ridge(alpha=0.0001),KNeighborsRegressor(n_neighbors=50)]:\r\n",
        "#   model.fit(train_features,train_label)\r\n",
        "#   train_predict = model.predict(train_features)\r\n",
        "#   dev_predict = model.predict(dev_features)\r\n",
        "#   mse_train = sklearn.metrics.mean_squared_error(train_label, train_predict)\r\n",
        "#   mse_dev = sklearn.metrics.mean_squared_error(dev_label, dev_predict)\r\n",
        "#   r2_train = sklearn.metrics.r2_score(train_label, train_predict)\r\n",
        "#   r2_dev = sklearn.metrics.r2_score(dev_label, dev_predict)\r\n",
        "#   print(mse_train,mse_dev,r2_train,r2_dev,model)\r\n",
        "#   plt.scatter(dev_label, dev_predict)\r\n",
        "\r\n",
        "\r\n",
        "#model = RandomForestRegressor(max_depth=10, random_state=0, n_estimators=100)\r\n",
        "#model = linear_model.LassoLars(alpha=.1)\r\n",
        "#model = linear_model.Lasso(alpha=.1)\r\n",
        "#model = linear_model.LinearRegression()\r\n",
        "#model = linear_model.BayesianRidge()\r\n",
        "#model = SVR(gamma='scale', C=1.0, epsilon=0.5)\r\n",
        "#model = linear_model.SGDRegressor(max_iter=1000, tol=1e-3)\r\n",
        "#model = xgb.XGBRegressor()\r\n",
        "#model = linear_model.Ridge(alpha=1)\r\n",
        "#model = KNeighborsRegressor(n_neighbors=50)\r\n",
        "model = MLPRegressor(hidden_layer_sizes=(64), activation=\"relu\", solver=\"sgd\", nesterovs_momentum=True, verbose=True, \r\n",
        "                     early_stopping=True, learning_rate_init=0.005, learning_rate='adaptive', alpha=0.0005)\r\n",
        "model.fit(train_features,train_label)\r\n",
        "train_predict = model.predict(train_features)\r\n",
        "dev_predict = model.predict(dev_features)\r\n",
        "mse_train = sklearn.metrics.mean_squared_error(train_label, train_predict)\r\n",
        "mse_dev = sklearn.metrics.mean_squared_error(dev_label, dev_predict)\r\n",
        "r2_train = sklearn.metrics.r2_score(train_label, train_predict)\r\n",
        "r2_dev = sklearn.metrics.r2_score(dev_label, dev_predict)\r\n",
        "print(mse_train,mse_dev,r2_train,r2_dev)\r\n",
        "plt.scatter(dev_label, dev_predict)\r\n",
        "plt.xlabel('Ground-truth label')\r\n",
        "plt.ylabel('Predicted label')\r\n"
      ],
      "execution_count": null,
      "outputs": [
        {
          "output_type": "stream",
          "text": [
            "Iteration 1, loss = 0.61920458\n",
            "Validation score: 0.153573\n",
            "Iteration 2, loss = 0.09234144\n",
            "Validation score: 0.288897\n",
            "Iteration 3, loss = 0.08182253\n",
            "Validation score: 0.343832\n",
            "Iteration 4, loss = 0.07567829\n",
            "Validation score: 0.391806\n",
            "Iteration 5, loss = 0.07154877\n",
            "Validation score: 0.419114\n",
            "Iteration 6, loss = 0.06862163\n",
            "Validation score: 0.436732\n",
            "Iteration 7, loss = 0.06629166\n",
            "Validation score: 0.456802\n",
            "Iteration 8, loss = 0.06463675\n",
            "Validation score: 0.464608\n",
            "Iteration 9, loss = 0.06304980\n",
            "Validation score: 0.477852\n",
            "Iteration 10, loss = 0.06182900\n",
            "Validation score: 0.483969\n",
            "Iteration 11, loss = 0.06075295\n",
            "Validation score: 0.492130\n",
            "Iteration 12, loss = 0.05992275\n",
            "Validation score: 0.493390\n",
            "Iteration 13, loss = 0.05911029\n",
            "Validation score: 0.500209\n",
            "Iteration 14, loss = 0.05849082\n",
            "Validation score: 0.508849\n",
            "Iteration 15, loss = 0.05783419\n",
            "Validation score: 0.504646\n",
            "Iteration 16, loss = 0.05721712\n",
            "Validation score: 0.501856\n",
            "Iteration 17, loss = 0.05682658\n",
            "Validation score: 0.509397\n",
            "Iteration 18, loss = 0.05625335\n",
            "Validation score: 0.518211\n",
            "Iteration 19, loss = 0.05584605\n",
            "Validation score: 0.523021\n",
            "Iteration 20, loss = 0.05550067\n",
            "Validation score: 0.523223\n",
            "Iteration 21, loss = 0.05510198\n",
            "Validation score: 0.523824\n",
            "Iteration 22, loss = 0.05460832\n",
            "Validation score: 0.521728\n",
            "Iteration 23, loss = 0.05441744\n",
            "Validation score: 0.526228\n",
            "Iteration 24, loss = 0.05411321\n",
            "Validation score: 0.528912\n",
            "Iteration 25, loss = 0.05382833\n",
            "Validation score: 0.527143\n",
            "Iteration 26, loss = 0.05360228\n",
            "Validation score: 0.531598\n",
            "Iteration 27, loss = 0.05331747\n",
            "Validation score: 0.529408\n",
            "Iteration 28, loss = 0.05304141\n",
            "Validation score: 0.532510\n",
            "Iteration 29, loss = 0.05290357\n",
            "Validation score: 0.533038\n",
            "Iteration 30, loss = 0.05265679\n",
            "Validation score: 0.531845\n",
            "Iteration 31, loss = 0.05245763\n",
            "Validation score: 0.534559\n",
            "Iteration 32, loss = 0.05234306\n",
            "Validation score: 0.536881\n",
            "Iteration 33, loss = 0.05210982\n",
            "Validation score: 0.536328\n",
            "Iteration 34, loss = 0.05194398\n",
            "Validation score: 0.536516\n",
            "Iteration 35, loss = 0.05173563\n",
            "Validation score: 0.529468\n",
            "Iteration 36, loss = 0.05176587\n",
            "Validation score: 0.540506\n",
            "Iteration 37, loss = 0.05144505\n",
            "Validation score: 0.541251\n",
            "Iteration 38, loss = 0.05128455\n",
            "Validation score: 0.540766\n",
            "Iteration 39, loss = 0.05116219\n",
            "Validation score: 0.540019\n",
            "Iteration 40, loss = 0.05101744\n",
            "Validation score: 0.541836\n",
            "Iteration 41, loss = 0.05090379\n",
            "Validation score: 0.537144\n",
            "Iteration 42, loss = 0.05071088\n",
            "Validation score: 0.535876\n",
            "Iteration 43, loss = 0.05064563\n",
            "Validation score: 0.540595\n",
            "Iteration 44, loss = 0.05053020\n",
            "Validation score: 0.541263\n",
            "Iteration 45, loss = 0.05035663\n",
            "Validation score: 0.540706\n",
            "Iteration 46, loss = 0.05026804\n",
            "Validation score: 0.545430\n",
            "Iteration 47, loss = 0.05016057\n",
            "Validation score: 0.541773\n",
            "Iteration 48, loss = 0.05003102\n",
            "Validation score: 0.537960\n",
            "Iteration 49, loss = 0.04995268\n",
            "Validation score: 0.538085\n",
            "Iteration 50, loss = 0.04986355\n",
            "Validation score: 0.543205\n",
            "Iteration 51, loss = 0.04967657\n",
            "Validation score: 0.541754\n",
            "Iteration 52, loss = 0.04970710\n",
            "Validation score: 0.545316\n",
            "Iteration 53, loss = 0.04955906\n",
            "Validation score: 0.546078\n",
            "Iteration 54, loss = 0.04939877\n",
            "Validation score: 0.544453\n",
            "Iteration 55, loss = 0.04927778\n",
            "Validation score: 0.543060\n",
            "Iteration 56, loss = 0.04925657\n",
            "Validation score: 0.546152\n",
            "Iteration 57, loss = 0.04914412\n",
            "Validation score: 0.542707\n",
            "Iteration 58, loss = 0.04905767\n",
            "Validation score: 0.545190\n",
            "Iteration 59, loss = 0.04891580\n",
            "Validation score: 0.536106\n",
            "Iteration 60, loss = 0.04891480\n",
            "Validation score: 0.545665\n",
            "Iteration 61, loss = 0.04885994\n",
            "Validation score: 0.549161\n",
            "Iteration 62, loss = 0.04870175\n",
            "Validation score: 0.547038\n",
            "Iteration 63, loss = 0.04868462\n",
            "Validation score: 0.547034\n",
            "Iteration 64, loss = 0.04838467\n",
            "Validation score: 0.547576\n",
            "Iteration 65, loss = 0.04846549\n",
            "Validation score: 0.547496\n",
            "Iteration 66, loss = 0.04839409\n",
            "Validation score: 0.547382\n",
            "Iteration 67, loss = 0.04822046\n",
            "Validation score: 0.544703\n",
            "Iteration 68, loss = 0.04822581\n",
            "Validation score: 0.543993\n",
            "Iteration 69, loss = 0.04804174\n",
            "Validation score: 0.547559\n",
            "Iteration 70, loss = 0.04810073\n",
            "Validation score: 0.546753\n",
            "Iteration 71, loss = 0.04790009\n",
            "Validation score: 0.544545\n",
            "Iteration 72, loss = 0.04787667\n",
            "Validation score: 0.548492\n",
            "Validation score did not improve more than tol=0.000100 for 10 consecutive epochs. Setting learning rate to 0.001000\n",
            "Iteration 73, loss = 0.04749001\n",
            "Validation score: 0.549034\n",
            "Iteration 74, loss = 0.04737935\n",
            "Validation score: 0.548998\n",
            "Iteration 75, loss = 0.04735034\n",
            "Validation score: 0.548560\n",
            "Iteration 76, loss = 0.04733756\n",
            "Validation score: 0.549117\n",
            "Iteration 77, loss = 0.04731130\n",
            "Validation score: 0.548765\n",
            "Iteration 78, loss = 0.04732680\n",
            "Validation score: 0.548653\n",
            "Iteration 79, loss = 0.04727783\n",
            "Validation score: 0.548406\n",
            "Iteration 80, loss = 0.04727362\n",
            "Validation score: 0.548608\n",
            "Iteration 81, loss = 0.04724193\n",
            "Validation score: 0.548908\n",
            "Iteration 82, loss = 0.04724594\n",
            "Validation score: 0.548426\n",
            "Iteration 83, loss = 0.04724743\n",
            "Validation score: 0.548330\n",
            "Validation score did not improve more than tol=0.000100 for 10 consecutive epochs. Setting learning rate to 0.000200\n",
            "Iteration 84, loss = 0.04713206\n",
            "Validation score: 0.548810\n",
            "Iteration 85, loss = 0.04710633\n",
            "Validation score: 0.548718\n",
            "Iteration 86, loss = 0.04710365\n",
            "Validation score: 0.548485\n",
            "Iteration 87, loss = 0.04710138\n",
            "Validation score: 0.548909\n",
            "Iteration 88, loss = 0.04708877\n",
            "Validation score: 0.548679\n",
            "Iteration 89, loss = 0.04709706\n",
            "Validation score: 0.548747\n",
            "Iteration 90, loss = 0.04709524\n",
            "Validation score: 0.548602\n",
            "Iteration 91, loss = 0.04708978\n",
            "Validation score: 0.548843\n",
            "Iteration 92, loss = 0.04708038\n",
            "Validation score: 0.548773\n",
            "Iteration 93, loss = 0.04707486\n",
            "Validation score: 0.548682\n",
            "Iteration 94, loss = 0.04707938\n",
            "Validation score: 0.548657\n",
            "Validation score did not improve more than tol=0.000100 for 10 consecutive epochs. Setting learning rate to 0.000040\n",
            "Iteration 95, loss = 0.04705293\n",
            "Validation score: 0.548775\n",
            "Iteration 96, loss = 0.04705071\n",
            "Validation score: 0.548728\n",
            "Iteration 97, loss = 0.04704885\n",
            "Validation score: 0.548722\n",
            "Iteration 98, loss = 0.04704883\n",
            "Validation score: 0.548706\n",
            "Iteration 99, loss = 0.04704738\n",
            "Validation score: 0.548747\n",
            "Iteration 100, loss = 0.04704757\n",
            "Validation score: 0.548718\n",
            "Iteration 101, loss = 0.04704633\n",
            "Validation score: 0.548757\n",
            "Iteration 102, loss = 0.04704768\n",
            "Validation score: 0.548734\n",
            "Iteration 103, loss = 0.04704460\n",
            "Validation score: 0.548741\n",
            "Iteration 104, loss = 0.04704516\n",
            "Validation score: 0.548718\n",
            "Iteration 105, loss = 0.04704488\n",
            "Validation score: 0.548758\n",
            "Validation score did not improve more than tol=0.000100 for 10 consecutive epochs. Setting learning rate to 0.000008\n",
            "Iteration 106, loss = 0.04703872\n",
            "Validation score: 0.548743\n",
            "Iteration 107, loss = 0.04703819\n",
            "Validation score: 0.548743\n",
            "Iteration 108, loss = 0.04703769\n",
            "Validation score: 0.548743\n",
            "Iteration 109, loss = 0.04703780\n",
            "Validation score: 0.548741\n",
            "Iteration 110, loss = 0.04703746\n",
            "Validation score: 0.548748\n",
            "Iteration 111, loss = 0.04703782\n",
            "Validation score: 0.548747\n",
            "Iteration 112, loss = 0.04703839\n",
            "Validation score: 0.548752\n",
            "Iteration 113, loss = 0.04703724\n",
            "Validation score: 0.548748\n",
            "Iteration 114, loss = 0.04703751\n",
            "Validation score: 0.548739\n",
            "Iteration 115, loss = 0.04703771\n",
            "Validation score: 0.548746\n",
            "Iteration 116, loss = 0.04703721\n",
            "Validation score: 0.548746\n",
            "Validation score did not improve more than tol=0.000100 for 10 consecutive epochs. Setting learning rate to 0.000002\n",
            "Iteration 117, loss = 0.04703579\n",
            "Validation score: 0.548743\n",
            "Iteration 118, loss = 0.04703582\n",
            "Validation score: 0.548744\n",
            "Iteration 119, loss = 0.04703580\n",
            "Validation score: 0.548743\n",
            "Iteration 120, loss = 0.04703585\n",
            "Validation score: 0.548744\n",
            "Iteration 121, loss = 0.04703573\n",
            "Validation score: 0.548744\n",
            "Iteration 122, loss = 0.04703579\n",
            "Validation score: 0.548745\n",
            "Iteration 123, loss = 0.04703571\n",
            "Validation score: 0.548743\n",
            "Iteration 124, loss = 0.04703579\n",
            "Validation score: 0.548744\n",
            "Iteration 125, loss = 0.04703564\n",
            "Validation score: 0.548744\n",
            "Iteration 126, loss = 0.04703563\n",
            "Validation score: 0.548745\n",
            "Iteration 127, loss = 0.04703574\n",
            "Validation score: 0.548746\n",
            "Validation score did not improve more than tol=0.000100 for 10 consecutive epochs. Setting learning rate to 0.000000\n",
            "Iteration 128, loss = 0.04703548\n",
            "Validation score: 0.548744\n",
            "Iteration 129, loss = 0.04703540\n",
            "Validation score: 0.548745\n",
            "Iteration 130, loss = 0.04703539\n",
            "Validation score: 0.548745\n",
            "Iteration 131, loss = 0.04703538\n",
            "Validation score: 0.548745\n",
            "Iteration 132, loss = 0.04703539\n",
            "Validation score: 0.548745\n",
            "Iteration 133, loss = 0.04703536\n",
            "Validation score: 0.548745\n",
            "Iteration 134, loss = 0.04703536\n",
            "Validation score: 0.548745\n",
            "Iteration 135, loss = 0.04703537\n",
            "Validation score: 0.548745\n",
            "Iteration 136, loss = 0.04703537\n",
            "Validation score: 0.548745\n",
            "Iteration 137, loss = 0.04703535\n",
            "Validation score: 0.548745\n",
            "Iteration 138, loss = 0.04703534\n",
            "Validation score: 0.548745\n",
            "Validation score did not improve more than tol=0.000100 for 10 consecutive epochs. Learning rate too small. Stopping.\n",
            "0.09717353575003644 0.18437160612915032 0.6125712557286724 0.4614921810150243\n"
          ],
          "name": "stdout"
        },
        {
          "output_type": "execute_result",
          "data": {
            "text/plain": [
              "Text(0, 0.5, 'Predicted label')"
            ]
          },
          "metadata": {
            "tags": []
          },
          "execution_count": 22
        },
        {
          "output_type": "display_data",
          "data": {
            "image/png": "[encoded data removed]",
            "text/plain": [
              "<Figure size 432x288 with 1 Axes>"
            ]
          },
          "metadata": {
            "tags": [],
            "needs_background": "light"
          }
        }
      ]
    },
    {
      "cell_type": "code",
      "metadata": {
        "id": "SsImpt9PqK55"
      },
      "source": [
        "from sklearn.linear_model import *\r\n",
        "from sklearn.svm import *\r\n",
        "from sklearn.neighbors  import *\r\n",
        "from sklearn.gaussian_process import *\r\n",
        "from sklearn.ensemble import *\r\n",
        "from sklearn.svm import *\r\n",
        "from xgboost import *\r\n",
        "from sklearn.neural_network import *\r\n",
        "from sklearn.tree import *"
      ],
      "execution_count": null,
      "outputs": []
    },
    {
      "cell_type": "code",
      "metadata": {
        "id": "mze1pRlxmIoc"
      },
      "source": [
        "def get_models():\r\n",
        "  models=list()\r\n",
        "  models.append(XGBRegressor())\r\n",
        "  models.append(BaggingRegressor())\r\n",
        "  models.append(SVR())\r\n",
        "  models.append(ExtraTreeRegressor())\r\n",
        "  models.append(GradientBoostingRegressor())\r\n",
        "  return models"
      ],
      "execution_count": null,
      "outputs": []
    },
    {
      "cell_type": "code",
      "metadata": {
        "colab": {
          "base_uri": "https://localhost:8080/"
        },
        "id": "weGXZKq8miBO",
        "outputId": "cdb4043c-16a5-4b32-a662-30c59d8ddc9f"
      },
      "source": [
        "!pip install mlens"
      ],
      "execution_count": null,
      "outputs": [
        {
          "output_type": "stream",
          "text": [
            "Collecting mlens\n",
            "\u001b[?25l  Downloading https://files.pythonhosted.org/packages/0b/f7/c04bda423ac93ddb54bc4c3a21c79c9a24bc83844efc30dc4c11c289e894/mlens-0.2.3-py2.py3-none-any.whl (227kB)\n",
            "\r\u001b[K     |█▍                              | 10kB 15.1MB/s eta 0:00:01\r\u001b[K     |██▉                             | 20kB 20.7MB/s eta 0:00:01\r\u001b[K     |████▎                           | 30kB 12.8MB/s eta 0:00:01\r\u001b[K     |█████▊                          | 40kB 10.6MB/s eta 0:00:01\r\u001b[K     |███████▏                        | 51kB 5.5MB/s eta 0:00:01\r\u001b[K     |████████▋                       | 61kB 6.0MB/s eta 0:00:01\r\u001b[K     |██████████                      | 71kB 6.2MB/s eta 0:00:01\r\u001b[K     |███████████▌                    | 81kB 6.5MB/s eta 0:00:01\r\u001b[K     |█████████████                   | 92kB 6.9MB/s eta 0:00:01\r\u001b[K     |██████████████▍                 | 102kB 7.3MB/s eta 0:00:01\r\u001b[K     |███████████████▉                | 112kB 7.3MB/s eta 0:00:01\r\u001b[K     |█████████████████▎              | 122kB 7.3MB/s eta 0:00:01\r\u001b[K     |██████████████████▊             | 133kB 7.3MB/s eta 0:00:01\r\u001b[K     |████████████████████▏           | 143kB 7.3MB/s eta 0:00:01\r\u001b[K     |█████████████████████▋          | 153kB 7.3MB/s eta 0:00:01\r\u001b[K     |███████████████████████         | 163kB 7.3MB/s eta 0:00:01\r\u001b[K     |████████████████████████▌       | 174kB 7.3MB/s eta 0:00:01\r\u001b[K     |██████████████████████████      | 184kB 7.3MB/s eta 0:00:01\r\u001b[K     |███████████████████████████▍    | 194kB 7.3MB/s eta 0:00:01\r\u001b[K     |████████████████████████████▉   | 204kB 7.3MB/s eta 0:00:01\r\u001b[K     |██████████████████████████████▎ | 215kB 7.3MB/s eta 0:00:01\r\u001b[K     |███████████████████████████████▋| 225kB 7.3MB/s eta 0:00:01\r\u001b[K     |████████████████████████████████| 235kB 7.3MB/s \n",
            "\u001b[?25hRequirement already satisfied: numpy>=1.11 in /usr/local/lib/python3.6/dist-packages (from mlens) (1.19.4)\n",
            "Requirement already satisfied: scipy>=0.17 in /usr/local/lib/python3.6/dist-packages (from mlens) (1.4.1)\n",
            "Installing collected packages: mlens\n",
            "Successfully installed mlens-0.2.3\n"
          ],
          "name": "stdout"
        }
      ]
    },
    {
      "cell_type": "code",
      "metadata": {
        "colab": {
          "base_uri": "https://localhost:8080/"
        },
        "id": "NCm_MLrlqNgC",
        "outputId": "c126b461-48b4-4b36-db18-eef93b8d701b"
      },
      "source": [
        "import mlens\r\n",
        "from mlens.ensemble import SuperLearner\r\n",
        "def get_super_learner(X):\r\n",
        "\tensemble = SuperLearner(scorer='r2', folds=10, shuffle=True, sample_size=len(X))\r\n",
        "\t# add base models\r\n",
        "\tmodels = get_models()\r\n",
        "\tensemble.add(models)\r\n",
        "\t# add the meta model\r\n",
        "\tensemble.add_meta(ElasticNet())\r\n",
        "\treturn ensemble"
      ],
      "execution_count": null,
      "outputs": [
        {
          "output_type": "stream",
          "text": [
            "[MLENS] backend: threading\n"
          ],
          "name": "stderr"
        }
      ]
    },
    {
      "cell_type": "code",
      "metadata": {
        "id": "ev8eyo4pqNlk"
      },
      "source": [
        "ensemble = get_super_learner(train_features)"
      ],
      "execution_count": null,
      "outputs": []
    },
    {
      "cell_type": "code",
      "metadata": {
        "colab": {
          "base_uri": "https://localhost:8080/"
        },
        "id": "hDaxR2BTqNsS",
        "outputId": "a00ab933-a1f0-4c43-e5d3-6e5a1db7b685"
      },
      "source": [
        "ensemble.fit(train_features,train_label)"
      ],
      "execution_count": null,
      "outputs": [
        {
          "output_type": "stream",
          "text": [
            "/usr/local/lib/python3.6/dist-packages/mlens/parallel/_base_functions.py:226: MetricWarning: [baggingregressor.0.1] Could not score baggingregressor. Details:\n",
            "TypeError(\"'str' object is not callable\",)\n",
            "  (name, inst_name, exc), MetricWarning)\n",
            "/usr/local/lib/python3.6/dist-packages/mlens/parallel/_base_functions.py:226: MetricWarning: [baggingregressor.0.2] Could not score baggingregressor. Details:\n",
            "TypeError(\"'str' object is not callable\",)\n",
            "  (name, inst_name, exc), MetricWarning)\n",
            "/usr/local/lib/python3.6/dist-packages/mlens/parallel/_base_functions.py:226: MetricWarning: [baggingregressor.0.3] Could not score baggingregressor. Details:\n",
            "TypeError(\"'str' object is not callable\",)\n",
            "  (name, inst_name, exc), MetricWarning)\n",
            "/usr/local/lib/python3.6/dist-packages/mlens/parallel/_base_functions.py:226: MetricWarning: [baggingregressor.0.4] Could not score baggingregressor. Details:\n",
            "TypeError(\"'str' object is not callable\",)\n",
            "  (name, inst_name, exc), MetricWarning)\n",
            "/usr/local/lib/python3.6/dist-packages/mlens/parallel/_base_functions.py:226: MetricWarning: [baggingregressor.0.5] Could not score baggingregressor. Details:\n",
            "TypeError(\"'str' object is not callable\",)\n",
            "  (name, inst_name, exc), MetricWarning)\n",
            "/usr/local/lib/python3.6/dist-packages/mlens/parallel/_base_functions.py:226: MetricWarning: [baggingregressor.0.6] Could not score baggingregressor. Details:\n",
            "TypeError(\"'str' object is not callable\",)\n",
            "  (name, inst_name, exc), MetricWarning)\n",
            "/usr/local/lib/python3.6/dist-packages/mlens/parallel/_base_functions.py:226: MetricWarning: [baggingregressor.0.7] Could not score baggingregressor. Details:\n",
            "TypeError(\"'str' object is not callable\",)\n",
            "  (name, inst_name, exc), MetricWarning)\n",
            "/usr/local/lib/python3.6/dist-packages/mlens/parallel/_base_functions.py:226: MetricWarning: [baggingregressor.0.8] Could not score baggingregressor. Details:\n",
            "TypeError(\"'str' object is not callable\",)\n",
            "  (name, inst_name, exc), MetricWarning)\n",
            "/usr/local/lib/python3.6/dist-packages/mlens/parallel/_base_functions.py:226: MetricWarning: [baggingregressor.0.9] Could not score baggingregressor. Details:\n",
            "TypeError(\"'str' object is not callable\",)\n",
            "  (name, inst_name, exc), MetricWarning)\n",
            "/usr/local/lib/python3.6/dist-packages/mlens/parallel/_base_functions.py:226: MetricWarning: [extratreeregressor.0.1] Could not score extratreeregressor. Details:\n",
            "TypeError(\"'str' object is not callable\",)\n",
            "  (name, inst_name, exc), MetricWarning)\n",
            "/usr/local/lib/python3.6/dist-packages/mlens/parallel/_base_functions.py:226: MetricWarning: [extratreeregressor.0.2] Could not score extratreeregressor. Details:\n",
            "TypeError(\"'str' object is not callable\",)\n",
            "  (name, inst_name, exc), MetricWarning)\n",
            "/usr/local/lib/python3.6/dist-packages/mlens/parallel/_base_functions.py:226: MetricWarning: [extratreeregressor.0.3] Could not score extratreeregressor. Details:\n",
            "TypeError(\"'str' object is not callable\",)\n",
            "  (name, inst_name, exc), MetricWarning)\n",
            "/usr/local/lib/python3.6/dist-packages/mlens/parallel/_base_functions.py:226: MetricWarning: [extratreeregressor.0.4] Could not score extratreeregressor. Details:\n",
            "TypeError(\"'str' object is not callable\",)\n",
            "  (name, inst_name, exc), MetricWarning)\n",
            "/usr/local/lib/python3.6/dist-packages/mlens/parallel/_base_functions.py:226: MetricWarning: [extratreeregressor.0.5] Could not score extratreeregressor. Details:\n",
            "TypeError(\"'str' object is not callable\",)\n",
            "  (name, inst_name, exc), MetricWarning)\n",
            "/usr/local/lib/python3.6/dist-packages/mlens/parallel/_base_functions.py:226: MetricWarning: [baggingregressor.0.10] Could not score baggingregressor. Details:\n",
            "TypeError(\"'str' object is not callable\",)\n",
            "  (name, inst_name, exc), MetricWarning)\n",
            "/usr/local/lib/python3.6/dist-packages/mlens/parallel/_base_functions.py:226: MetricWarning: [extratreeregressor.0.6] Could not score extratreeregressor. Details:\n",
            "TypeError(\"'str' object is not callable\",)\n",
            "  (name, inst_name, exc), MetricWarning)\n",
            "/usr/local/lib/python3.6/dist-packages/mlens/parallel/_base_functions.py:226: MetricWarning: [extratreeregressor.0.7] Could not score extratreeregressor. Details:\n",
            "TypeError(\"'str' object is not callable\",)\n",
            "  (name, inst_name, exc), MetricWarning)\n",
            "/usr/local/lib/python3.6/dist-packages/mlens/parallel/_base_functions.py:226: MetricWarning: [extratreeregressor.0.8] Could not score extratreeregressor. Details:\n",
            "TypeError(\"'str' object is not callable\",)\n",
            "  (name, inst_name, exc), MetricWarning)\n",
            "/usr/local/lib/python3.6/dist-packages/mlens/parallel/_base_functions.py:226: MetricWarning: [extratreeregressor.0.9] Could not score extratreeregressor. Details:\n",
            "TypeError(\"'str' object is not callable\",)\n",
            "  (name, inst_name, exc), MetricWarning)\n",
            "/usr/local/lib/python3.6/dist-packages/mlens/parallel/_base_functions.py:226: MetricWarning: [extratreeregressor.0.10] Could not score extratreeregressor. Details:\n",
            "TypeError(\"'str' object is not callable\",)\n",
            "  (name, inst_name, exc), MetricWarning)\n",
            "/usr/local/lib/python3.6/dist-packages/mlens/parallel/_base_functions.py:226: MetricWarning: [gradientboostingregressor.0.1] Could not score gradientboostingregressor. Details:\n",
            "TypeError(\"'str' object is not callable\",)\n",
            "  (name, inst_name, exc), MetricWarning)\n",
            "/usr/local/lib/python3.6/dist-packages/mlens/parallel/_base_functions.py:226: MetricWarning: [gradientboostingregressor.0.2] Could not score gradientboostingregressor. Details:\n",
            "TypeError(\"'str' object is not callable\",)\n",
            "  (name, inst_name, exc), MetricWarning)\n",
            "/usr/local/lib/python3.6/dist-packages/mlens/parallel/_base_functions.py:226: MetricWarning: [gradientboostingregressor.0.3] Could not score gradientboostingregressor. Details:\n",
            "TypeError(\"'str' object is not callable\",)\n",
            "  (name, inst_name, exc), MetricWarning)\n",
            "/usr/local/lib/python3.6/dist-packages/mlens/parallel/_base_functions.py:226: MetricWarning: [gradientboostingregressor.0.4] Could not score gradientboostingregressor. Details:\n",
            "TypeError(\"'str' object is not callable\",)\n",
            "  (name, inst_name, exc), MetricWarning)\n",
            "/usr/local/lib/python3.6/dist-packages/mlens/parallel/_base_functions.py:226: MetricWarning: [gradientboostingregressor.0.5] Could not score gradientboostingregressor. Details:\n",
            "TypeError(\"'str' object is not callable\",)\n",
            "  (name, inst_name, exc), MetricWarning)\n",
            "/usr/local/lib/python3.6/dist-packages/mlens/parallel/_base_functions.py:226: MetricWarning: [gradientboostingregressor.0.6] Could not score gradientboostingregressor. Details:\n",
            "TypeError(\"'str' object is not callable\",)\n",
            "  (name, inst_name, exc), MetricWarning)\n",
            "/usr/local/lib/python3.6/dist-packages/mlens/parallel/_base_functions.py:226: MetricWarning: [gradientboostingregressor.0.7] Could not score gradientboostingregressor. Details:\n",
            "TypeError(\"'str' object is not callable\",)\n",
            "  (name, inst_name, exc), MetricWarning)\n",
            "/usr/local/lib/python3.6/dist-packages/mlens/parallel/_base_functions.py:226: MetricWarning: [gradientboostingregressor.0.8] Could not score gradientboostingregressor. Details:\n",
            "TypeError(\"'str' object is not callable\",)\n",
            "  (name, inst_name, exc), MetricWarning)\n",
            "/usr/local/lib/python3.6/dist-packages/mlens/parallel/_base_functions.py:226: MetricWarning: [gradientboostingregressor.0.9] Could not score gradientboostingregressor. Details:\n",
            "TypeError(\"'str' object is not callable\",)\n",
            "  (name, inst_name, exc), MetricWarning)\n",
            "/usr/local/lib/python3.6/dist-packages/mlens/parallel/_base_functions.py:226: MetricWarning: [gradientboostingregressor.0.10] Could not score gradientboostingregressor. Details:\n",
            "TypeError(\"'str' object is not callable\",)\n",
            "  (name, inst_name, exc), MetricWarning)\n",
            "/usr/local/lib/python3.6/dist-packages/mlens/parallel/_base_functions.py:226: MetricWarning: [svr.0.1] Could not score svr. Details:\n",
            "TypeError(\"'str' object is not callable\",)\n",
            "  (name, inst_name, exc), MetricWarning)\n",
            "/usr/local/lib/python3.6/dist-packages/mlens/parallel/_base_functions.py:226: MetricWarning: [svr.0.2] Could not score svr. Details:\n",
            "TypeError(\"'str' object is not callable\",)\n",
            "  (name, inst_name, exc), MetricWarning)\n",
            "/usr/local/lib/python3.6/dist-packages/mlens/parallel/_base_functions.py:226: MetricWarning: [svr.0.3] Could not score svr. Details:\n",
            "TypeError(\"'str' object is not callable\",)\n",
            "  (name, inst_name, exc), MetricWarning)\n",
            "/usr/local/lib/python3.6/dist-packages/mlens/parallel/_base_functions.py:226: MetricWarning: [svr.0.4] Could not score svr. Details:\n",
            "TypeError(\"'str' object is not callable\",)\n",
            "  (name, inst_name, exc), MetricWarning)\n",
            "/usr/local/lib/python3.6/dist-packages/mlens/parallel/_base_functions.py:226: MetricWarning: [svr.0.5] Could not score svr. Details:\n",
            "TypeError(\"'str' object is not callable\",)\n",
            "  (name, inst_name, exc), MetricWarning)\n",
            "/usr/local/lib/python3.6/dist-packages/mlens/parallel/_base_functions.py:226: MetricWarning: [svr.0.6] Could not score svr. Details:\n",
            "TypeError(\"'str' object is not callable\",)\n",
            "  (name, inst_name, exc), MetricWarning)\n",
            "/usr/local/lib/python3.6/dist-packages/mlens/parallel/_base_functions.py:226: MetricWarning: [svr.0.7] Could not score svr. Details:\n",
            "TypeError(\"'str' object is not callable\",)\n",
            "  (name, inst_name, exc), MetricWarning)\n",
            "/usr/local/lib/python3.6/dist-packages/mlens/parallel/_base_functions.py:226: MetricWarning: [svr.0.8] Could not score svr. Details:\n",
            "TypeError(\"'str' object is not callable\",)\n",
            "  (name, inst_name, exc), MetricWarning)\n",
            "/usr/local/lib/python3.6/dist-packages/mlens/parallel/_base_functions.py:226: MetricWarning: [svr.0.9] Could not score svr. Details:\n",
            "TypeError(\"'str' object is not callable\",)\n",
            "  (name, inst_name, exc), MetricWarning)\n",
            "/usr/local/lib/python3.6/dist-packages/mlens/parallel/_base_functions.py:226: MetricWarning: [xgbregressor.0.1] Could not score xgbregressor. Details:\n",
            "TypeError(\"'str' object is not callable\",)\n",
            "  (name, inst_name, exc), MetricWarning)\n",
            "/usr/local/lib/python3.6/dist-packages/mlens/parallel/_base_functions.py:226: MetricWarning: [xgbregressor.0.2] Could not score xgbregressor. Details:\n",
            "TypeError(\"'str' object is not callable\",)\n",
            "  (name, inst_name, exc), MetricWarning)\n",
            "/usr/local/lib/python3.6/dist-packages/mlens/parallel/_base_functions.py:226: MetricWarning: [svr.0.10] Could not score svr. Details:\n",
            "TypeError(\"'str' object is not callable\",)\n",
            "  (name, inst_name, exc), MetricWarning)\n",
            "/usr/local/lib/python3.6/dist-packages/mlens/parallel/_base_functions.py:226: MetricWarning: [xgbregressor.0.3] Could not score xgbregressor. Details:\n",
            "TypeError(\"'str' object is not callable\",)\n",
            "  (name, inst_name, exc), MetricWarning)\n",
            "/usr/local/lib/python3.6/dist-packages/mlens/parallel/_base_functions.py:226: MetricWarning: [xgbregressor.0.4] Could not score xgbregressor. Details:\n",
            "TypeError(\"'str' object is not callable\",)\n",
            "  (name, inst_name, exc), MetricWarning)\n",
            "/usr/local/lib/python3.6/dist-packages/mlens/parallel/_base_functions.py:226: MetricWarning: [xgbregressor.0.5] Could not score xgbregressor. Details:\n",
            "TypeError(\"'str' object is not callable\",)\n",
            "  (name, inst_name, exc), MetricWarning)\n",
            "/usr/local/lib/python3.6/dist-packages/mlens/parallel/_base_functions.py:226: MetricWarning: [xgbregressor.0.6] Could not score xgbregressor. Details:\n",
            "TypeError(\"'str' object is not callable\",)\n",
            "  (name, inst_name, exc), MetricWarning)\n",
            "/usr/local/lib/python3.6/dist-packages/mlens/parallel/_base_functions.py:226: MetricWarning: [xgbregressor.0.7] Could not score xgbregressor. Details:\n",
            "TypeError(\"'str' object is not callable\",)\n",
            "  (name, inst_name, exc), MetricWarning)\n",
            "/usr/local/lib/python3.6/dist-packages/mlens/parallel/_base_functions.py:226: MetricWarning: [xgbregressor.0.8] Could not score xgbregressor. Details:\n",
            "TypeError(\"'str' object is not callable\",)\n",
            "  (name, inst_name, exc), MetricWarning)\n",
            "/usr/local/lib/python3.6/dist-packages/mlens/parallel/_base_functions.py:226: MetricWarning: [xgbregressor.0.9] Could not score xgbregressor. Details:\n",
            "TypeError(\"'str' object is not callable\",)\n",
            "  (name, inst_name, exc), MetricWarning)\n",
            "/usr/local/lib/python3.6/dist-packages/mlens/parallel/_base_functions.py:226: MetricWarning: [xgbregressor.0.10] Could not score xgbregressor. Details:\n",
            "TypeError(\"'str' object is not callable\",)\n",
            "  (name, inst_name, exc), MetricWarning)\n",
            "/usr/local/lib/python3.6/dist-packages/mlens/parallel/_base_functions.py:226: MetricWarning: [elasticnet.0.0] Could not score elasticnet. Details:\n",
            "TypeError(\"'str' object is not callable\",)\n",
            "  (name, inst_name, exc), MetricWarning)\n"
          ],
          "name": "stderr"
        },
        {
          "output_type": "execute_result",
          "data": {
            "text/plain": [
              "SuperLearner(array_check=None, backend=None, folds=10,\n",
              "       layers=[Layer(backend='threading', dtype=<class 'numpy.float32'>, n_jobs=-1,\n",
              "   name='layer-1', propagate_features=None, raise_on_exception=True,\n",
              "   random_state=None, shuffle=True,\n",
              "   stack=[Group(backend='threading', dtype=<class 'numpy.float32'>,\n",
              "   indexer=FoldIndex(X=None, folds=10, raise_on_ex...rer='r2')],\n",
              "   n_jobs=-1, name='group-1', raise_on_exception=True, transformers=[])],\n",
              "   verbose=0)],\n",
              "       model_selection=False, n_jobs=None, raise_on_exception=True,\n",
              "       random_state=None, sample_size=14000, scorer='r2', shuffle=True,\n",
              "       verbose=False)"
            ]
          },
          "metadata": {
            "tags": []
          },
          "execution_count": 34
        }
      ]
    },
    {
      "cell_type": "code",
      "metadata": {
        "colab": {
          "base_uri": "https://localhost:8080/"
        },
        "id": "VvwhIpeQrwvi",
        "outputId": "3afbc3c9-410e-4f38-d6eb-7d838f49fd01"
      },
      "source": [
        "yhat = ensemble.predict(train_features)\r\n",
        "\r\n",
        "print(\"*\"* 30)\r\n",
        "score=r2_score(train_label,yhat)\r\n",
        "print(\"Super Learner accuracy is :{}\".format(score))"
      ],
      "execution_count": null,
      "outputs": [
        {
          "output_type": "stream",
          "text": [
            "******************************\n",
            "Super Learner accuracy is :-1.1719514247943152e-12\n"
          ],
          "name": "stdout"
        }
      ]
    },
    {
      "cell_type": "code",
      "metadata": {
        "id": "FLg73RSP4dQK"
      },
      "source": [
        "import os\r\n",
        "import tensorflow as tf\r\n",
        "from tensorflow import keras\r\n",
        "from tensorflow.keras import layers"
      ],
      "execution_count": null,
      "outputs": []
    },
    {
      "cell_type": "code",
      "metadata": {
        "id": "tR7a1yLG4hze"
      },
      "source": [
        "class My_model(keras.Model):\r\n",
        "  def __init__(self):\r\n",
        "    super(My_model,self).__init__()\r\n",
        "    self.dense1=layers.Dense(128)\r\n",
        "    self.dense2=layers.Dense(512)\r\n",
        "    self.dense3=layers.Dense(64)\r\n",
        "    self.dense4=layers.Dense(1)\r\n",
        "  def call(self,input_tensor):\r\n",
        "    x=tf.nn.relu(self.dense1(input_tensor))\r\n",
        "#   x=tf.nn.relu(self.dense2(x))\r\n",
        "#    x=tf.nn.relu(self.dense3(x))\r\n",
        "    x=tf.nn.relu(self.dense4(x))\r\n",
        "    return self.dense2(x)  "
      ],
      "execution_count": null,
      "outputs": []
    },
    {
      "cell_type": "code",
      "metadata": {
        "id": "qN3gbxAH4jq0"
      },
      "source": [
        "model=My_model()"
      ],
      "execution_count": null,
      "outputs": []
    },
    {
      "cell_type": "code",
      "metadata": {
        "id": "YFUH3ehK5MaD"
      },
      "source": [
        "model.compile(optimizer=keras.optimizers.Adam(),loss=keras.losses.mean_squared_error,metrics=[tf.keras.metrics.RootMeanSquaredError()])  "
      ],
      "execution_count": null,
      "outputs": []
    },
    {
      "cell_type": "code",
      "metadata": {
        "colab": {
          "base_uri": "https://localhost:8080/"
        },
        "id": "-pedeMIn5417",
        "outputId": "c544b6b4-8f91-4387-cf68-dd3871357b6c"
      },
      "source": [
        "train_features.shape"
      ],
      "execution_count": null,
      "outputs": [
        {
          "output_type": "execute_result",
          "data": {
            "text/plain": [
              "(14000, 355)"
            ]
          },
          "metadata": {
            "tags": []
          },
          "execution_count": 53
        }
      ]
    },
    {
      "cell_type": "code",
      "metadata": {
        "colab": {
          "base_uri": "https://localhost:8080/",
          "height": 1000
        },
        "id": "3f5AnD2s5ofQ",
        "outputId": "b79cff66-425b-4b93-daac-2f00da35dd61"
      },
      "source": [
        "model.fit(train_features,train_label,batch_size=64,epochs=20,verbose=2)"
      ],
      "execution_count": null,
      "outputs": [
        {
          "output_type": "stream",
          "text": [
            "Epoch 1/2\n"
          ],
          "name": "stdout"
        },
        {
          "output_type": "error",
          "ename": "ValueError",
          "evalue": "ignored",
          "traceback": [
            "\u001b[0;31m---------------------------------------------------------------------------\u001b[0m",
            "\u001b[0;31mValueError\u001b[0m                                Traceback (most recent call last)",
            "\u001b[0;32m<ipython-input-54-24d0b7ebe397>\u001b[0m in \u001b[0;36m<module>\u001b[0;34m()\u001b[0m\n\u001b[0;32m----> 1\u001b[0;31m \u001b[0mmodel\u001b[0m\u001b[0;34m.\u001b[0m\u001b[0mfit\u001b[0m\u001b[0;34m(\u001b[0m\u001b[0mtrain_features\u001b[0m\u001b[0;34m,\u001b[0m\u001b[0mtrain_label\u001b[0m\u001b[0;34m,\u001b[0m\u001b[0mbatch_size\u001b[0m\u001b[0;34m=\u001b[0m\u001b[0;36m64\u001b[0m\u001b[0;34m,\u001b[0m\u001b[0mepochs\u001b[0m\u001b[0;34m=\u001b[0m\u001b[0;36m2\u001b[0m\u001b[0;34m,\u001b[0m\u001b[0mverbose\u001b[0m\u001b[0;34m=\u001b[0m\u001b[0;36m2\u001b[0m\u001b[0;34m)\u001b[0m\u001b[0;34m\u001b[0m\u001b[0;34m\u001b[0m\u001b[0m\n\u001b[0m",
            "\u001b[0;32m/usr/local/lib/python3.6/dist-packages/tensorflow/python/keras/engine/training.py\u001b[0m in \u001b[0;36mfit\u001b[0;34m(self, x, y, batch_size, epochs, verbose, callbacks, validation_split, validation_data, shuffle, class_weight, sample_weight, initial_epoch, steps_per_epoch, validation_steps, validation_batch_size, validation_freq, max_queue_size, workers, use_multiprocessing)\u001b[0m\n\u001b[1;32m   1098\u001b[0m                 _r=1):\n\u001b[1;32m   1099\u001b[0m               \u001b[0mcallbacks\u001b[0m\u001b[0;34m.\u001b[0m\u001b[0mon_train_batch_begin\u001b[0m\u001b[0;34m(\u001b[0m\u001b[0mstep\u001b[0m\u001b[0;34m)\u001b[0m\u001b[0;34m\u001b[0m\u001b[0;34m\u001b[0m\u001b[0m\n\u001b[0;32m-> 1100\u001b[0;31m               \u001b[0mtmp_logs\u001b[0m \u001b[0;34m=\u001b[0m \u001b[0mself\u001b[0m\u001b[0;34m.\u001b[0m\u001b[0mtrain_function\u001b[0m\u001b[0;34m(\u001b[0m\u001b[0miterator\u001b[0m\u001b[0;34m)\u001b[0m\u001b[0;34m\u001b[0m\u001b[0;34m\u001b[0m\u001b[0m\n\u001b[0m\u001b[1;32m   1101\u001b[0m               \u001b[0;32mif\u001b[0m \u001b[0mdata_handler\u001b[0m\u001b[0;34m.\u001b[0m\u001b[0mshould_sync\u001b[0m\u001b[0;34m:\u001b[0m\u001b[0;34m\u001b[0m\u001b[0;34m\u001b[0m\u001b[0m\n\u001b[1;32m   1102\u001b[0m                 \u001b[0mcontext\u001b[0m\u001b[0;34m.\u001b[0m\u001b[0masync_wait\u001b[0m\u001b[0;34m(\u001b[0m\u001b[0;34m)\u001b[0m\u001b[0;34m\u001b[0m\u001b[0;34m\u001b[0m\u001b[0m\n",
            "\u001b[0;32m/usr/local/lib/python3.6/dist-packages/tensorflow/python/eager/def_function.py\u001b[0m in \u001b[0;36m__call__\u001b[0;34m(self, *args, **kwds)\u001b[0m\n\u001b[1;32m    826\u001b[0m     \u001b[0mtracing_count\u001b[0m \u001b[0;34m=\u001b[0m \u001b[0mself\u001b[0m\u001b[0;34m.\u001b[0m\u001b[0mexperimental_get_tracing_count\u001b[0m\u001b[0;34m(\u001b[0m\u001b[0;34m)\u001b[0m\u001b[0;34m\u001b[0m\u001b[0;34m\u001b[0m\u001b[0m\n\u001b[1;32m    827\u001b[0m     \u001b[0;32mwith\u001b[0m \u001b[0mtrace\u001b[0m\u001b[0;34m.\u001b[0m\u001b[0mTrace\u001b[0m\u001b[0;34m(\u001b[0m\u001b[0mself\u001b[0m\u001b[0;34m.\u001b[0m\u001b[0m_name\u001b[0m\u001b[0;34m)\u001b[0m \u001b[0;32mas\u001b[0m \u001b[0mtm\u001b[0m\u001b[0;34m:\u001b[0m\u001b[0;34m\u001b[0m\u001b[0;34m\u001b[0m\u001b[0m\n\u001b[0;32m--> 828\u001b[0;31m       \u001b[0mresult\u001b[0m \u001b[0;34m=\u001b[0m \u001b[0mself\u001b[0m\u001b[0;34m.\u001b[0m\u001b[0m_call\u001b[0m\u001b[0;34m(\u001b[0m\u001b[0;34m*\u001b[0m\u001b[0margs\u001b[0m\u001b[0;34m,\u001b[0m \u001b[0;34m**\u001b[0m\u001b[0mkwds\u001b[0m\u001b[0;34m)\u001b[0m\u001b[0;34m\u001b[0m\u001b[0;34m\u001b[0m\u001b[0m\n\u001b[0m\u001b[1;32m    829\u001b[0m       \u001b[0mcompiler\u001b[0m \u001b[0;34m=\u001b[0m \u001b[0;34m\"xla\"\u001b[0m \u001b[0;32mif\u001b[0m \u001b[0mself\u001b[0m\u001b[0;34m.\u001b[0m\u001b[0m_experimental_compile\u001b[0m \u001b[0;32melse\u001b[0m \u001b[0;34m\"nonXla\"\u001b[0m\u001b[0;34m\u001b[0m\u001b[0;34m\u001b[0m\u001b[0m\n\u001b[1;32m    830\u001b[0m       \u001b[0mnew_tracing_count\u001b[0m \u001b[0;34m=\u001b[0m \u001b[0mself\u001b[0m\u001b[0;34m.\u001b[0m\u001b[0mexperimental_get_tracing_count\u001b[0m\u001b[0;34m(\u001b[0m\u001b[0;34m)\u001b[0m\u001b[0;34m\u001b[0m\u001b[0;34m\u001b[0m\u001b[0m\n",
            "\u001b[0;32m/usr/local/lib/python3.6/dist-packages/tensorflow/python/eager/def_function.py\u001b[0m in \u001b[0;36m_call\u001b[0;34m(self, *args, **kwds)\u001b[0m\n\u001b[1;32m    869\u001b[0m       \u001b[0;31m# This is the first call of __call__, so we have to initialize.\u001b[0m\u001b[0;34m\u001b[0m\u001b[0;34m\u001b[0m\u001b[0;34m\u001b[0m\u001b[0m\n\u001b[1;32m    870\u001b[0m       \u001b[0minitializers\u001b[0m \u001b[0;34m=\u001b[0m \u001b[0;34m[\u001b[0m\u001b[0;34m]\u001b[0m\u001b[0;34m\u001b[0m\u001b[0;34m\u001b[0m\u001b[0m\n\u001b[0;32m--> 871\u001b[0;31m       \u001b[0mself\u001b[0m\u001b[0;34m.\u001b[0m\u001b[0m_initialize\u001b[0m\u001b[0;34m(\u001b[0m\u001b[0margs\u001b[0m\u001b[0;34m,\u001b[0m \u001b[0mkwds\u001b[0m\u001b[0;34m,\u001b[0m \u001b[0madd_initializers_to\u001b[0m\u001b[0;34m=\u001b[0m\u001b[0minitializers\u001b[0m\u001b[0;34m)\u001b[0m\u001b[0;34m\u001b[0m\u001b[0;34m\u001b[0m\u001b[0m\n\u001b[0m\u001b[1;32m    872\u001b[0m     \u001b[0;32mfinally\u001b[0m\u001b[0;34m:\u001b[0m\u001b[0;34m\u001b[0m\u001b[0;34m\u001b[0m\u001b[0m\n\u001b[1;32m    873\u001b[0m       \u001b[0;31m# At this point we know that the initialization is complete (or less\u001b[0m\u001b[0;34m\u001b[0m\u001b[0;34m\u001b[0m\u001b[0;34m\u001b[0m\u001b[0m\n",
            "\u001b[0;32m/usr/local/lib/python3.6/dist-packages/tensorflow/python/eager/def_function.py\u001b[0m in \u001b[0;36m_initialize\u001b[0;34m(self, args, kwds, add_initializers_to)\u001b[0m\n\u001b[1;32m    724\u001b[0m     self._concrete_stateful_fn = (\n\u001b[1;32m    725\u001b[0m         self._stateful_fn._get_concrete_function_internal_garbage_collected(  # pylint: disable=protected-access\n\u001b[0;32m--> 726\u001b[0;31m             *args, **kwds))\n\u001b[0m\u001b[1;32m    727\u001b[0m \u001b[0;34m\u001b[0m\u001b[0m\n\u001b[1;32m    728\u001b[0m     \u001b[0;32mdef\u001b[0m \u001b[0minvalid_creator_scope\u001b[0m\u001b[0;34m(\u001b[0m\u001b[0;34m*\u001b[0m\u001b[0munused_args\u001b[0m\u001b[0;34m,\u001b[0m \u001b[0;34m**\u001b[0m\u001b[0munused_kwds\u001b[0m\u001b[0;34m)\u001b[0m\u001b[0;34m:\u001b[0m\u001b[0;34m\u001b[0m\u001b[0;34m\u001b[0m\u001b[0m\n",
            "\u001b[0;32m/usr/local/lib/python3.6/dist-packages/tensorflow/python/eager/function.py\u001b[0m in \u001b[0;36m_get_concrete_function_internal_garbage_collected\u001b[0;34m(self, *args, **kwargs)\u001b[0m\n\u001b[1;32m   2967\u001b[0m       \u001b[0margs\u001b[0m\u001b[0;34m,\u001b[0m \u001b[0mkwargs\u001b[0m \u001b[0;34m=\u001b[0m \u001b[0;32mNone\u001b[0m\u001b[0;34m,\u001b[0m \u001b[0;32mNone\u001b[0m\u001b[0;34m\u001b[0m\u001b[0;34m\u001b[0m\u001b[0m\n\u001b[1;32m   2968\u001b[0m     \u001b[0;32mwith\u001b[0m \u001b[0mself\u001b[0m\u001b[0;34m.\u001b[0m\u001b[0m_lock\u001b[0m\u001b[0;34m:\u001b[0m\u001b[0;34m\u001b[0m\u001b[0;34m\u001b[0m\u001b[0m\n\u001b[0;32m-> 2969\u001b[0;31m       \u001b[0mgraph_function\u001b[0m\u001b[0;34m,\u001b[0m \u001b[0m_\u001b[0m \u001b[0;34m=\u001b[0m \u001b[0mself\u001b[0m\u001b[0;34m.\u001b[0m\u001b[0m_maybe_define_function\u001b[0m\u001b[0;34m(\u001b[0m\u001b[0margs\u001b[0m\u001b[0;34m,\u001b[0m \u001b[0mkwargs\u001b[0m\u001b[0;34m)\u001b[0m\u001b[0;34m\u001b[0m\u001b[0;34m\u001b[0m\u001b[0m\n\u001b[0m\u001b[1;32m   2970\u001b[0m     \u001b[0;32mreturn\u001b[0m \u001b[0mgraph_function\u001b[0m\u001b[0;34m\u001b[0m\u001b[0;34m\u001b[0m\u001b[0m\n\u001b[1;32m   2971\u001b[0m \u001b[0;34m\u001b[0m\u001b[0m\n",
            "\u001b[0;32m/usr/local/lib/python3.6/dist-packages/tensorflow/python/eager/function.py\u001b[0m in \u001b[0;36m_maybe_define_function\u001b[0;34m(self, args, kwargs)\u001b[0m\n\u001b[1;32m   3359\u001b[0m \u001b[0;34m\u001b[0m\u001b[0m\n\u001b[1;32m   3360\u001b[0m           \u001b[0mself\u001b[0m\u001b[0;34m.\u001b[0m\u001b[0m_function_cache\u001b[0m\u001b[0;34m.\u001b[0m\u001b[0mmissed\u001b[0m\u001b[0;34m.\u001b[0m\u001b[0madd\u001b[0m\u001b[0;34m(\u001b[0m\u001b[0mcall_context_key\u001b[0m\u001b[0;34m)\u001b[0m\u001b[0;34m\u001b[0m\u001b[0;34m\u001b[0m\u001b[0m\n\u001b[0;32m-> 3361\u001b[0;31m           \u001b[0mgraph_function\u001b[0m \u001b[0;34m=\u001b[0m \u001b[0mself\u001b[0m\u001b[0;34m.\u001b[0m\u001b[0m_create_graph_function\u001b[0m\u001b[0;34m(\u001b[0m\u001b[0margs\u001b[0m\u001b[0;34m,\u001b[0m \u001b[0mkwargs\u001b[0m\u001b[0;34m)\u001b[0m\u001b[0;34m\u001b[0m\u001b[0;34m\u001b[0m\u001b[0m\n\u001b[0m\u001b[1;32m   3362\u001b[0m           \u001b[0mself\u001b[0m\u001b[0;34m.\u001b[0m\u001b[0m_function_cache\u001b[0m\u001b[0;34m.\u001b[0m\u001b[0mprimary\u001b[0m\u001b[0;34m[\u001b[0m\u001b[0mcache_key\u001b[0m\u001b[0;34m]\u001b[0m \u001b[0;34m=\u001b[0m \u001b[0mgraph_function\u001b[0m\u001b[0;34m\u001b[0m\u001b[0;34m\u001b[0m\u001b[0m\n\u001b[1;32m   3363\u001b[0m \u001b[0;34m\u001b[0m\u001b[0m\n",
            "\u001b[0;32m/usr/local/lib/python3.6/dist-packages/tensorflow/python/eager/function.py\u001b[0m in \u001b[0;36m_create_graph_function\u001b[0;34m(self, args, kwargs, override_flat_arg_shapes)\u001b[0m\n\u001b[1;32m   3204\u001b[0m             \u001b[0marg_names\u001b[0m\u001b[0;34m=\u001b[0m\u001b[0marg_names\u001b[0m\u001b[0;34m,\u001b[0m\u001b[0;34m\u001b[0m\u001b[0;34m\u001b[0m\u001b[0m\n\u001b[1;32m   3205\u001b[0m             \u001b[0moverride_flat_arg_shapes\u001b[0m\u001b[0;34m=\u001b[0m\u001b[0moverride_flat_arg_shapes\u001b[0m\u001b[0;34m,\u001b[0m\u001b[0;34m\u001b[0m\u001b[0;34m\u001b[0m\u001b[0m\n\u001b[0;32m-> 3206\u001b[0;31m             capture_by_value=self._capture_by_value),\n\u001b[0m\u001b[1;32m   3207\u001b[0m         \u001b[0mself\u001b[0m\u001b[0;34m.\u001b[0m\u001b[0m_function_attributes\u001b[0m\u001b[0;34m,\u001b[0m\u001b[0;34m\u001b[0m\u001b[0;34m\u001b[0m\u001b[0m\n\u001b[1;32m   3208\u001b[0m         \u001b[0mfunction_spec\u001b[0m\u001b[0;34m=\u001b[0m\u001b[0mself\u001b[0m\u001b[0;34m.\u001b[0m\u001b[0mfunction_spec\u001b[0m\u001b[0;34m,\u001b[0m\u001b[0;34m\u001b[0m\u001b[0;34m\u001b[0m\u001b[0m\n",
            "\u001b[0;32m/usr/local/lib/python3.6/dist-packages/tensorflow/python/framework/func_graph.py\u001b[0m in \u001b[0;36mfunc_graph_from_py_func\u001b[0;34m(name, python_func, args, kwargs, signature, func_graph, autograph, autograph_options, add_control_dependencies, arg_names, op_return_value, collections, capture_by_value, override_flat_arg_shapes)\u001b[0m\n\u001b[1;32m    988\u001b[0m         \u001b[0m_\u001b[0m\u001b[0;34m,\u001b[0m \u001b[0moriginal_func\u001b[0m \u001b[0;34m=\u001b[0m \u001b[0mtf_decorator\u001b[0m\u001b[0;34m.\u001b[0m\u001b[0munwrap\u001b[0m\u001b[0;34m(\u001b[0m\u001b[0mpython_func\u001b[0m\u001b[0;34m)\u001b[0m\u001b[0;34m\u001b[0m\u001b[0;34m\u001b[0m\u001b[0m\n\u001b[1;32m    989\u001b[0m \u001b[0;34m\u001b[0m\u001b[0m\n\u001b[0;32m--> 990\u001b[0;31m       \u001b[0mfunc_outputs\u001b[0m \u001b[0;34m=\u001b[0m \u001b[0mpython_func\u001b[0m\u001b[0;34m(\u001b[0m\u001b[0;34m*\u001b[0m\u001b[0mfunc_args\u001b[0m\u001b[0;34m,\u001b[0m \u001b[0;34m**\u001b[0m\u001b[0mfunc_kwargs\u001b[0m\u001b[0;34m)\u001b[0m\u001b[0;34m\u001b[0m\u001b[0;34m\u001b[0m\u001b[0m\n\u001b[0m\u001b[1;32m    991\u001b[0m \u001b[0;34m\u001b[0m\u001b[0m\n\u001b[1;32m    992\u001b[0m       \u001b[0;31m# invariant: `func_outputs` contains only Tensors, CompositeTensors,\u001b[0m\u001b[0;34m\u001b[0m\u001b[0;34m\u001b[0m\u001b[0;34m\u001b[0m\u001b[0m\n",
            "\u001b[0;32m/usr/local/lib/python3.6/dist-packages/tensorflow/python/eager/def_function.py\u001b[0m in \u001b[0;36mwrapped_fn\u001b[0;34m(*args, **kwds)\u001b[0m\n\u001b[1;32m    632\u001b[0m             \u001b[0mxla_context\u001b[0m\u001b[0;34m.\u001b[0m\u001b[0mExit\u001b[0m\u001b[0;34m(\u001b[0m\u001b[0;34m)\u001b[0m\u001b[0;34m\u001b[0m\u001b[0;34m\u001b[0m\u001b[0m\n\u001b[1;32m    633\u001b[0m         \u001b[0;32melse\u001b[0m\u001b[0;34m:\u001b[0m\u001b[0;34m\u001b[0m\u001b[0;34m\u001b[0m\u001b[0m\n\u001b[0;32m--> 634\u001b[0;31m           \u001b[0mout\u001b[0m \u001b[0;34m=\u001b[0m \u001b[0mweak_wrapped_fn\u001b[0m\u001b[0;34m(\u001b[0m\u001b[0;34m)\u001b[0m\u001b[0;34m.\u001b[0m\u001b[0m__wrapped__\u001b[0m\u001b[0;34m(\u001b[0m\u001b[0;34m*\u001b[0m\u001b[0margs\u001b[0m\u001b[0;34m,\u001b[0m \u001b[0;34m**\u001b[0m\u001b[0mkwds\u001b[0m\u001b[0;34m)\u001b[0m\u001b[0;34m\u001b[0m\u001b[0;34m\u001b[0m\u001b[0m\n\u001b[0m\u001b[1;32m    635\u001b[0m         \u001b[0;32mreturn\u001b[0m \u001b[0mout\u001b[0m\u001b[0;34m\u001b[0m\u001b[0;34m\u001b[0m\u001b[0m\n\u001b[1;32m    636\u001b[0m \u001b[0;34m\u001b[0m\u001b[0m\n",
            "\u001b[0;32m/usr/local/lib/python3.6/dist-packages/tensorflow/python/framework/func_graph.py\u001b[0m in \u001b[0;36mwrapper\u001b[0;34m(*args, **kwargs)\u001b[0m\n\u001b[1;32m    975\u001b[0m           \u001b[0;32mexcept\u001b[0m \u001b[0mException\u001b[0m \u001b[0;32mas\u001b[0m \u001b[0me\u001b[0m\u001b[0;34m:\u001b[0m  \u001b[0;31m# pylint:disable=broad-except\u001b[0m\u001b[0;34m\u001b[0m\u001b[0;34m\u001b[0m\u001b[0m\n\u001b[1;32m    976\u001b[0m             \u001b[0;32mif\u001b[0m \u001b[0mhasattr\u001b[0m\u001b[0;34m(\u001b[0m\u001b[0me\u001b[0m\u001b[0;34m,\u001b[0m \u001b[0;34m\"ag_error_metadata\"\u001b[0m\u001b[0;34m)\u001b[0m\u001b[0;34m:\u001b[0m\u001b[0;34m\u001b[0m\u001b[0;34m\u001b[0m\u001b[0m\n\u001b[0;32m--> 977\u001b[0;31m               \u001b[0;32mraise\u001b[0m \u001b[0me\u001b[0m\u001b[0;34m.\u001b[0m\u001b[0mag_error_metadata\u001b[0m\u001b[0;34m.\u001b[0m\u001b[0mto_exception\u001b[0m\u001b[0;34m(\u001b[0m\u001b[0me\u001b[0m\u001b[0;34m)\u001b[0m\u001b[0;34m\u001b[0m\u001b[0;34m\u001b[0m\u001b[0m\n\u001b[0m\u001b[1;32m    978\u001b[0m             \u001b[0;32melse\u001b[0m\u001b[0;34m:\u001b[0m\u001b[0;34m\u001b[0m\u001b[0;34m\u001b[0m\u001b[0m\n\u001b[1;32m    979\u001b[0m               \u001b[0;32mraise\u001b[0m\u001b[0;34m\u001b[0m\u001b[0;34m\u001b[0m\u001b[0m\n",
            "\u001b[0;31mValueError\u001b[0m: in user code:\n\n    /usr/local/lib/python3.6/dist-packages/tensorflow/python/keras/engine/training.py:805 train_function  *\n        return step_function(self, iterator)\n    /usr/local/lib/python3.6/dist-packages/tensorflow/python/keras/engine/training.py:795 step_function  **\n        outputs = model.distribute_strategy.run(run_step, args=(data,))\n    /usr/local/lib/python3.6/dist-packages/tensorflow/python/distribute/distribute_lib.py:1259 run\n        return self._extended.call_for_each_replica(fn, args=args, kwargs=kwargs)\n    /usr/local/lib/python3.6/dist-packages/tensorflow/python/distribute/distribute_lib.py:2730 call_for_each_replica\n        return self._call_for_each_replica(fn, args, kwargs)\n    /usr/local/lib/python3.6/dist-packages/tensorflow/python/distribute/distribute_lib.py:3417 _call_for_each_replica\n        return fn(*args, **kwargs)\n    /usr/local/lib/python3.6/dist-packages/tensorflow/python/keras/engine/training.py:788 run_step  **\n        outputs = model.train_step(data)\n    /usr/local/lib/python3.6/dist-packages/tensorflow/python/keras/engine/training.py:758 train_step\n        self.compiled_metrics.update_state(y, y_pred, sample_weight)\n    /usr/local/lib/python3.6/dist-packages/tensorflow/python/keras/engine/compile_utils.py:387 update_state\n        self.build(y_pred, y_true)\n    /usr/local/lib/python3.6/dist-packages/tensorflow/python/keras/engine/compile_utils.py:318 build\n        self._metrics, y_true, y_pred)\n    /usr/local/lib/python3.6/dist-packages/tensorflow/python/util/nest.py:1163 map_structure_up_to\n        **kwargs)\n    /usr/local/lib/python3.6/dist-packages/tensorflow/python/util/nest.py:1258 map_structure_with_tuple_paths_up_to\n        func(*args, **kwargs) for args in zip(flat_path_gen, *flat_value_gen)\n    /usr/local/lib/python3.6/dist-packages/tensorflow/python/util/nest.py:1258 <listcomp>\n        func(*args, **kwargs) for args in zip(flat_path_gen, *flat_value_gen)\n    /usr/local/lib/python3.6/dist-packages/tensorflow/python/util/nest.py:1161 <lambda>\n        lambda _, *values: func(*values),  # Discards the path arg.\n    /usr/local/lib/python3.6/dist-packages/tensorflow/python/keras/engine/compile_utils.py:418 _get_metric_objects\n        return [self._get_metric_object(m, y_t, y_p) for m in metrics]\n    /usr/local/lib/python3.6/dist-packages/tensorflow/python/keras/engine/compile_utils.py:418 <listcomp>\n        return [self._get_metric_object(m, y_t, y_p) for m in metrics]\n    /usr/local/lib/python3.6/dist-packages/tensorflow/python/keras/engine/compile_utils.py:437 _get_metric_object\n        metric_obj = metrics_mod.get(metric)\n    /usr/local/lib/python3.6/dist-packages/tensorflow/python/keras/metrics.py:3490 get\n        return deserialize(str(identifier))\n    /usr/local/lib/python3.6/dist-packages/tensorflow/python/keras/metrics.py:3450 deserialize\n        printable_module_name='metric function')\n    /usr/local/lib/python3.6/dist-packages/tensorflow/python/keras/utils/generic_utils.py:378 deserialize_keras_object\n        'Unknown ' + printable_module_name + ': ' + object_name)\n\n    ValueError: Unknown metric function: RSquare\n"
          ]
        }
      ]
    }
  ]
}